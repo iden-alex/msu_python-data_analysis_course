{
 "cells": [
  {
   "cell_type": "code",
   "execution_count": 2,
   "metadata": {},
   "outputs": [],
   "source": [
    "#First stage\n",
    "from lxml import etree, html as lhtml\n",
    "from bs4 import BeautifulSoup\n",
    "import pandas as pd\n",
    "from html.parser import HTMLParser\n",
    "from tqdm import tqdm_notebook\n",
    "import json\n",
    "import requests"
   ]
  },
  {
   "cell_type": "code",
   "execution_count": 3,
   "metadata": {},
   "outputs": [],
   "source": [
    "html = \"https://www.moscowbooks.ru/catalog/author/\"\n",
    "author_id = {\n",
    "  \"Достоевский Ф. М.\": 9150,\n",
    "  \"Роллинс Дж.\": 59396,\n",
    "  \"Фицджеральд Ф. С.\": 28727,\n",
    "  \"Глуховский Д. А.\": 53427,\n",
    "  \"Стругацкий А. Н.\": 26268,\n",
    "  \"Лукьяненко С. В.\": 16626,\n",
    "  \"Фрай М.\": 28927,\n",
    "  \"Хантер Э.\": 37969,\n",
    "  \"Роулинг Дж. К.\": 104832\n",
    "}\n",
    "author_url = {name: html + str(aid) for name, aid in author_id.items()}\n",
    "html_a = { name:requests.get(url).text for name, url in author_url.items()}"
   ]
  },
  {
   "cell_type": "code",
   "execution_count": 4,
   "metadata": {},
   "outputs": [],
   "source": [
    "result = {}\n",
    "for name,url in author_url.items():\n",
    "    tmp = requests.get(url).text\n",
    "    soup = BeautifulSoup(tmp, 'lxml')\n",
    "    pages = [int(p['data-ajaxpage']) for p in soup.find_all(class_ = 'pager__text') if len(p.attrs) > 1]\n",
    "    if len(pages) == 0:\n",
    "        max_page = 1\n",
    "    else:\n",
    "        max_page = max(pages)\n",
    "    url += \"?page=\"\n",
    "    res_author = []\n",
    "    for i in range (1, max_page + 1):\n",
    "        html = requests.get(url + str(i)).text\n",
    "        soup = BeautifulSoup(html, 'lxml')\n",
    "        for book_info in soup.find_all(class_ ='book-preview__buy-button button button_primary tocart_btn'):\n",
    "            res_author.append(book_info.attrs['data-productid'])\n",
    "    result.setdefault(name, res_author)"
   ]
  },
  {
   "cell_type": "code",
   "execution_count": 5,
   "metadata": {},
   "outputs": [
    {
     "data": {
      "text/plain": [
       "243"
      ]
     },
     "execution_count": 5,
     "metadata": {},
     "output_type": "execute_result"
    }
   ],
   "source": [
    "book_ids = []\n",
    "for l in list(result.values()):\n",
    "    book_ids.extend(l)\n",
    "len(book_ids)"
   ]
  },
  {
   "cell_type": "code",
   "execution_count": 6,
   "metadata": {},
   "outputs": [],
   "source": [
    "def get_name(soup):\n",
    "    name = soup.find(itemprop = 'name')\n",
    "    if name is not None:\n",
    "        return {'Название': name.text}\n",
    "    else:\n",
    "        return {'Название': \"\"}"
   ]
  },
  {
   "cell_type": "code",
   "execution_count": 7,
   "metadata": {},
   "outputs": [],
   "source": [
    "def get_author(soup):\n",
    "    author = soup.find(class_ = 'author-name')\n",
    "    if author is not None:\n",
    "        return {'Автор': author.text}\n",
    "    else:\n",
    "        return {'Автор': \"\"}"
   ]
  },
  {
   "cell_type": "code",
   "execution_count": 24,
   "metadata": {},
   "outputs": [],
   "source": [
    "def get_avability(soup):\n",
    "    aval = soup.find(class_ = 'instock1')\n",
    "    if aval is not None:\n",
    "        if aval.text.find(\"В наличии\"):\n",
    "            aval = 'true'\n",
    "        else:\n",
    "            aval = 'false'\n",
    "        return {'Наличие': aval}\n",
    "    else:\n",
    "        return {'Наличие': 'false'}"
   ]
  },
  {
   "cell_type": "code",
   "execution_count": 25,
   "metadata": {},
   "outputs": [],
   "source": [
    "def get_descr(soup):\n",
    "    descr = soup.find(class_ = \"book__description collapsed js-book-description\")\n",
    "    if descr is not None:\n",
    "        descr = descr.text\n",
    "        descr = descr[descr.find(':') + 1:descr.find('\\r')].strip()\n",
    "        return {'Описание': descr}\n",
    "    else:\n",
    "        return {'Описание': \"\"}"
   ]
  },
  {
   "cell_type": "code",
   "execution_count": 26,
   "metadata": {},
   "outputs": [],
   "source": [
    "def get_rating(soup):\n",
    "    rate = soup.find(class_ = 'book___rating-stars rating-stars rating-stars_lg')\n",
    "    if rate is not None:\n",
    "        return {'Рейтинг': rate['data-rate']}\n",
    "    else:\n",
    "        return {'Рейтинг': \"\"}"
   ]
  },
  {
   "cell_type": "code",
   "execution_count": 27,
   "metadata": {},
   "outputs": [],
   "source": [
    "def get_cover(soup):\n",
    "    cover_url = soup.find(class_ = 'link_gallery')\n",
    "    if cover_url is not None:\n",
    "        return {'Обложка': 'https://www.moscowbooks.ru' + cover_url['href']}\n",
    "    else:\n",
    "        return {'Обложка': \"\"}"
   ]
  },
  {
   "cell_type": "code",
   "execution_count": 28,
   "metadata": {},
   "outputs": [],
   "source": [
    "import re\n",
    "def get_stickers(soup):\n",
    "    stickers = soup.find(class_ = 'book__stickers')\n",
    "    if stickers is not None:\n",
    "        stickers =  re.findall(r'\\w+', stickers.text)\n",
    "        stickers = ', '.join(stickers)\n",
    "        return {'Стикеры': stickers}\n",
    "    else:\n",
    "        return {'Стикеры': \"\"}"
   ]
  },
  {
   "cell_type": "code",
   "execution_count": 29,
   "metadata": {},
   "outputs": [],
   "source": [
    "def get_price(soup):\n",
    "    price = soup.find(class_ = 'book__price')\n",
    "    if price is not None:\n",
    "        price = re.findall(r'\\d+', price.text)\n",
    "        return {'Цена': price[0]}\n",
    "    else:\n",
    "        return {'Цена': \"\"}"
   ]
  },
  {
   "cell_type": "code",
   "execution_count": 30,
   "metadata": {},
   "outputs": [],
   "source": [
    "def get_details(soup):\n",
    "    details_name = soup.find_all(attrs = 'book__details-name')\n",
    "    details_value = soup.find_all(attrs = 'book__details-value')\n",
    "    if details_name is not None and details_value is not None:\n",
    "        details_name = [s.text.strip() for s in details_name]\n",
    "        details_value = [s.text.strip() for s in details_value]\n",
    "        return dict(zip(details_name, details_value))\n",
    "    else:\n",
    "        return {\"\":\"\"}"
   ]
  },
  {
   "cell_type": "code",
   "execution_count": 31,
   "metadata": {},
   "outputs": [],
   "source": [
    "def extract_book_info(book_id):\n",
    "    result = {}\n",
    "    result.update({'Код товара':book_id})\n",
    "    url = \"https://www.moscowbooks.ru/book/\" + book_id\n",
    "    soup = BeautifulSoup(requests.get(url).text, 'lxml')\n",
    "    result.update(get_name(soup))\n",
    "    result.update(get_author(soup))\n",
    "    result.update(get_avability(soup))\n",
    "    result.update(get_descr(soup))\n",
    "    result.update(get_rating(soup))\n",
    "    result.update(get_cover(soup))\n",
    "    result.update(get_stickers(soup))\n",
    "    result.update(get_price(soup))\n",
    "    result.update(get_details(soup))\n",
    "    return result"
   ]
  },
  {
   "cell_type": "code",
   "execution_count": 32,
   "metadata": {},
   "outputs": [
    {
     "name": "stdout",
     "output_type": "stream",
     "text": [
      "240 objects are processed..."
     ]
    }
   ],
   "source": [
    "from multiprocessing import Pool, Lock, Value\n",
    "from time import sleep\n",
    "\n",
    "mutex = Lock()\n",
    "n_processed = Value('i', 0)\n",
    "\n",
    "def func_wrapper(uid):\n",
    "    res = extract_book_info(uid) \n",
    "    with mutex:\n",
    "        global n_processed\n",
    "        n_processed.value += 1\n",
    "        if n_processed.value % 10 == 0:\n",
    "            print(f\"\\r{n_processed.value} objects are processed...\", end='', flush=True)\n",
    "    return res\n",
    "\n",
    "with Pool(processes=5) as pool:\n",
    "    res = pool.map(func_wrapper, book_ids)"
   ]
  },
  {
   "cell_type": "code",
   "execution_count": 33,
   "metadata": {},
   "outputs": [],
   "source": [
    "df = pd.DataFrame(res)\n",
    "df.sort_values(by=['Код товара'], inplace=True)\n",
    "\n",
    "with open('hw_3.csv', mode='w', encoding='utf-8') as f_csv:\n",
    "    df.to_csv(f_csv, index=False)"
   ]
  },
  {
   "cell_type": "code",
   "execution_count": null,
   "metadata": {},
   "outputs": [],
   "source": []
  }
 ],
 "metadata": {
  "kernelspec": {
   "display_name": "Python 3",
   "language": "python",
   "name": "python3"
  },
  "language_info": {
   "codemirror_mode": {
    "name": "ipython",
    "version": 3
   },
   "file_extension": ".py",
   "mimetype": "text/x-python",
   "name": "python",
   "nbconvert_exporter": "python",
   "pygments_lexer": "ipython3",
   "version": "3.7.7"
  }
 },
 "nbformat": 4,
 "nbformat_minor": 2
}
